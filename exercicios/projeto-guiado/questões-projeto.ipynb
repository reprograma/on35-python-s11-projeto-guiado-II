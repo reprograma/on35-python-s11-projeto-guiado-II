{
 "cells": [
  {
   "cell_type": "markdown",
   "metadata": {},
   "source": [
    "1. Qual foi a média de valores de uma coluna específica?"
   ]
  },
  {
   "cell_type": "code",
   "execution_count": 18,
   "metadata": {},
   "outputs": [],
   "source": [
    "import pandas as pd"
   ]
  },
  {
   "cell_type": "code",
   "execution_count": 19,
   "metadata": {},
   "outputs": [],
   "source": [
    "df = pd.read_csv('INMET_MS_ITAQUIRAI_2020.CSV', delimiter=';', skiprows=8, encoding='latin1')"
   ]
  },
  {
   "cell_type": "code",
   "execution_count": 20,
   "metadata": {},
   "outputs": [],
   "source": [
    "media_umidade = df['UMIDADE RELATIVA DO AR, HORARIA (%)'].mean()\n",
    "\n"
   ]
  },
  {
   "cell_type": "code",
   "execution_count": 21,
   "metadata": {},
   "outputs": [
    {
     "name": "stdout",
     "output_type": "stream",
     "text": [
      "A média da umidade relativa do ar, horária foi de 66.8\n"
     ]
    }
   ],
   "source": [
    "print(f'A média da umidade relativa do ar, horária foi de {media_umidade:.1f}')"
   ]
  },
  {
   "cell_type": "markdown",
   "metadata": {},
   "source": [
    "2. Qual o total de registros após a limpeza dos dados?"
   ]
  },
  {
   "cell_type": "code",
   "execution_count": 22,
   "metadata": {},
   "outputs": [
    {
     "data": {
      "text/plain": [
       "(8784, 20)"
      ]
     },
     "execution_count": 22,
     "metadata": {},
     "output_type": "execute_result"
    }
   ],
   "source": [
    "df.shape"
   ]
  },
  {
   "cell_type": "code",
   "execution_count": 23,
   "metadata": {},
   "outputs": [
    {
     "data": {
      "text/html": [
       "<div>\n",
       "<style scoped>\n",
       "    .dataframe tbody tr th:only-of-type {\n",
       "        vertical-align: middle;\n",
       "    }\n",
       "\n",
       "    .dataframe tbody tr th {\n",
       "        vertical-align: top;\n",
       "    }\n",
       "\n",
       "    .dataframe thead th {\n",
       "        text-align: right;\n",
       "    }\n",
       "</style>\n",
       "<table border=\"1\" class=\"dataframe\">\n",
       "  <thead>\n",
       "    <tr style=\"text-align: right;\">\n",
       "      <th></th>\n",
       "      <th>Data</th>\n",
       "      <th>Hora UTC</th>\n",
       "      <th>PRECIPITAÇÃO TOTAL, HORÁRIO (mm)</th>\n",
       "      <th>PRESSAO ATMOSFERICA AO NIVEL DA ESTACAO, HORARIA (mB)</th>\n",
       "      <th>PRESSÃO ATMOSFERICA MAX.NA HORA ANT. (AUT) (mB)</th>\n",
       "      <th>PRESSÃO ATMOSFERICA MIN. NA HORA ANT. (AUT) (mB)</th>\n",
       "      <th>RADIACAO GLOBAL (Kj/m²)</th>\n",
       "      <th>TEMPERATURA DO AR - BULBO SECO, HORARIA (°C)</th>\n",
       "      <th>TEMPERATURA DO PONTO DE ORVALHO (°C)</th>\n",
       "      <th>TEMPERATURA MÁXIMA NA HORA ANT. (AUT) (°C)</th>\n",
       "      <th>TEMPERATURA MÍNIMA NA HORA ANT. (AUT) (°C)</th>\n",
       "      <th>TEMPERATURA ORVALHO MAX. NA HORA ANT. (AUT) (°C)</th>\n",
       "      <th>TEMPERATURA ORVALHO MIN. NA HORA ANT. (AUT) (°C)</th>\n",
       "      <th>UMIDADE REL. MAX. NA HORA ANT. (AUT) (%)</th>\n",
       "      <th>UMIDADE REL. MIN. NA HORA ANT. (AUT) (%)</th>\n",
       "      <th>UMIDADE RELATIVA DO AR, HORARIA (%)</th>\n",
       "      <th>VENTO, DIREÇÃO HORARIA (gr) (° (gr))</th>\n",
       "      <th>VENTO, RAJADA MAXIMA (m/s)</th>\n",
       "      <th>VENTO, VELOCIDADE HORARIA (m/s)</th>\n",
       "      <th>Unnamed: 19</th>\n",
       "    </tr>\n",
       "  </thead>\n",
       "  <tbody>\n",
       "    <tr>\n",
       "      <th>0</th>\n",
       "      <td>2020/01/01</td>\n",
       "      <td>0000 UTC</td>\n",
       "      <td>,6</td>\n",
       "      <td>970</td>\n",
       "      <td>970</td>\n",
       "      <td>969,5</td>\n",
       "      <td>NaN</td>\n",
       "      <td>23,1</td>\n",
       "      <td>22,6</td>\n",
       "      <td>23,1</td>\n",
       "      <td>22,6</td>\n",
       "      <td>22,8</td>\n",
       "      <td>21,6</td>\n",
       "      <td>98.0</td>\n",
       "      <td>94.0</td>\n",
       "      <td>97.0</td>\n",
       "      <td>11.0</td>\n",
       "      <td>3,2</td>\n",
       "      <td>1,9</td>\n",
       "      <td>NaN</td>\n",
       "    </tr>\n",
       "    <tr>\n",
       "      <th>1</th>\n",
       "      <td>2020/01/01</td>\n",
       "      <td>0100 UTC</td>\n",
       "      <td>0</td>\n",
       "      <td>970,2</td>\n",
       "      <td>970,2</td>\n",
       "      <td>970</td>\n",
       "      <td>2,9</td>\n",
       "      <td>23,7</td>\n",
       "      <td>21,7</td>\n",
       "      <td>23,7</td>\n",
       "      <td>23</td>\n",
       "      <td>22,5</td>\n",
       "      <td>21,6</td>\n",
       "      <td>97.0</td>\n",
       "      <td>88.0</td>\n",
       "      <td>88.0</td>\n",
       "      <td>10.0</td>\n",
       "      <td>4,6</td>\n",
       "      <td>1,3</td>\n",
       "      <td>NaN</td>\n",
       "    </tr>\n",
       "    <tr>\n",
       "      <th>2</th>\n",
       "      <td>2020/01/01</td>\n",
       "      <td>0200 UTC</td>\n",
       "      <td>0</td>\n",
       "      <td>969,8</td>\n",
       "      <td>970,2</td>\n",
       "      <td>969,8</td>\n",
       "      <td>1,6</td>\n",
       "      <td>24</td>\n",
       "      <td>21,8</td>\n",
       "      <td>24,4</td>\n",
       "      <td>23,7</td>\n",
       "      <td>21,9</td>\n",
       "      <td>21,2</td>\n",
       "      <td>88.0</td>\n",
       "      <td>83.0</td>\n",
       "      <td>88.0</td>\n",
       "      <td>345.0</td>\n",
       "      <td>3,2</td>\n",
       "      <td>,6</td>\n",
       "      <td>NaN</td>\n",
       "    </tr>\n",
       "    <tr>\n",
       "      <th>3</th>\n",
       "      <td>2020/01/01</td>\n",
       "      <td>0300 UTC</td>\n",
       "      <td>0</td>\n",
       "      <td>970,1</td>\n",
       "      <td>970,1</td>\n",
       "      <td>969,8</td>\n",
       "      <td>,6</td>\n",
       "      <td>24,3</td>\n",
       "      <td>21,4</td>\n",
       "      <td>25,1</td>\n",
       "      <td>24</td>\n",
       "      <td>22</td>\n",
       "      <td>21,2</td>\n",
       "      <td>88.0</td>\n",
       "      <td>80.0</td>\n",
       "      <td>83.0</td>\n",
       "      <td>332.0</td>\n",
       "      <td>4,8</td>\n",
       "      <td>1,5</td>\n",
       "      <td>NaN</td>\n",
       "    </tr>\n",
       "    <tr>\n",
       "      <th>4</th>\n",
       "      <td>2020/01/01</td>\n",
       "      <td>0400 UTC</td>\n",
       "      <td>0</td>\n",
       "      <td>970,2</td>\n",
       "      <td>970,5</td>\n",
       "      <td>970,1</td>\n",
       "      <td>NaN</td>\n",
       "      <td>23,8</td>\n",
       "      <td>21,7</td>\n",
       "      <td>24,3</td>\n",
       "      <td>23,7</td>\n",
       "      <td>21,8</td>\n",
       "      <td>21,4</td>\n",
       "      <td>89.0</td>\n",
       "      <td>83.0</td>\n",
       "      <td>89.0</td>\n",
       "      <td>316.0</td>\n",
       "      <td>3,3</td>\n",
       "      <td>,2</td>\n",
       "      <td>NaN</td>\n",
       "    </tr>\n",
       "  </tbody>\n",
       "</table>\n",
       "</div>"
      ],
      "text/plain": [
       "         Data  Hora UTC PRECIPITAÇÃO TOTAL, HORÁRIO (mm)  \\\n",
       "0  2020/01/01  0000 UTC                               ,6   \n",
       "1  2020/01/01  0100 UTC                                0   \n",
       "2  2020/01/01  0200 UTC                                0   \n",
       "3  2020/01/01  0300 UTC                                0   \n",
       "4  2020/01/01  0400 UTC                                0   \n",
       "\n",
       "  PRESSAO ATMOSFERICA AO NIVEL DA ESTACAO, HORARIA (mB)  \\\n",
       "0                                                970      \n",
       "1                                              970,2      \n",
       "2                                              969,8      \n",
       "3                                              970,1      \n",
       "4                                              970,2      \n",
       "\n",
       "  PRESSÃO ATMOSFERICA MAX.NA HORA ANT. (AUT) (mB)  \\\n",
       "0                                             970   \n",
       "1                                           970,2   \n",
       "2                                           970,2   \n",
       "3                                           970,1   \n",
       "4                                           970,5   \n",
       "\n",
       "  PRESSÃO ATMOSFERICA MIN. NA HORA ANT. (AUT) (mB) RADIACAO GLOBAL (Kj/m²)  \\\n",
       "0                                            969,5                     NaN   \n",
       "1                                              970                     2,9   \n",
       "2                                            969,8                     1,6   \n",
       "3                                            969,8                      ,6   \n",
       "4                                            970,1                     NaN   \n",
       "\n",
       "  TEMPERATURA DO AR - BULBO SECO, HORARIA (°C)  \\\n",
       "0                                         23,1   \n",
       "1                                         23,7   \n",
       "2                                           24   \n",
       "3                                         24,3   \n",
       "4                                         23,8   \n",
       "\n",
       "  TEMPERATURA DO PONTO DE ORVALHO (°C)  \\\n",
       "0                                 22,6   \n",
       "1                                 21,7   \n",
       "2                                 21,8   \n",
       "3                                 21,4   \n",
       "4                                 21,7   \n",
       "\n",
       "  TEMPERATURA MÁXIMA NA HORA ANT. (AUT) (°C)  \\\n",
       "0                                       23,1   \n",
       "1                                       23,7   \n",
       "2                                       24,4   \n",
       "3                                       25,1   \n",
       "4                                       24,3   \n",
       "\n",
       "  TEMPERATURA MÍNIMA NA HORA ANT. (AUT) (°C)  \\\n",
       "0                                       22,6   \n",
       "1                                         23   \n",
       "2                                       23,7   \n",
       "3                                         24   \n",
       "4                                       23,7   \n",
       "\n",
       "  TEMPERATURA ORVALHO MAX. NA HORA ANT. (AUT) (°C)  \\\n",
       "0                                             22,8   \n",
       "1                                             22,5   \n",
       "2                                             21,9   \n",
       "3                                               22   \n",
       "4                                             21,8   \n",
       "\n",
       "  TEMPERATURA ORVALHO MIN. NA HORA ANT. (AUT) (°C)  \\\n",
       "0                                             21,6   \n",
       "1                                             21,6   \n",
       "2                                             21,2   \n",
       "3                                             21,2   \n",
       "4                                             21,4   \n",
       "\n",
       "   UMIDADE REL. MAX. NA HORA ANT. (AUT) (%)  \\\n",
       "0                                      98.0   \n",
       "1                                      97.0   \n",
       "2                                      88.0   \n",
       "3                                      88.0   \n",
       "4                                      89.0   \n",
       "\n",
       "   UMIDADE REL. MIN. NA HORA ANT. (AUT) (%)  \\\n",
       "0                                      94.0   \n",
       "1                                      88.0   \n",
       "2                                      83.0   \n",
       "3                                      80.0   \n",
       "4                                      83.0   \n",
       "\n",
       "   UMIDADE RELATIVA DO AR, HORARIA (%)  VENTO, DIREÇÃO HORARIA (gr) (° (gr))  \\\n",
       "0                                 97.0                                  11.0   \n",
       "1                                 88.0                                  10.0   \n",
       "2                                 88.0                                 345.0   \n",
       "3                                 83.0                                 332.0   \n",
       "4                                 89.0                                 316.0   \n",
       "\n",
       "  VENTO, RAJADA MAXIMA (m/s) VENTO, VELOCIDADE HORARIA (m/s)  Unnamed: 19  \n",
       "0                        3,2                             1,9          NaN  \n",
       "1                        4,6                             1,3          NaN  \n",
       "2                        3,2                              ,6          NaN  \n",
       "3                        4,8                             1,5          NaN  \n",
       "4                        3,3                              ,2          NaN  "
      ]
     },
     "execution_count": 23,
     "metadata": {},
     "output_type": "execute_result"
    }
   ],
   "source": [
    "df.head(5)"
   ]
  },
  {
   "cell_type": "code",
   "execution_count": 24,
   "metadata": {},
   "outputs": [
    {
     "data": {
      "text/plain": [
       "(8784, 20)"
      ]
     },
     "execution_count": 24,
     "metadata": {},
     "output_type": "execute_result"
    }
   ],
   "source": [
    "df.shape"
   ]
  },
  {
   "cell_type": "markdown",
   "metadata": {},
   "source": [
    "3. Quais foram os valores máximos e mínimos identificados?"
   ]
  },
  {
   "cell_type": "code",
   "execution_count": 27,
   "metadata": {},
   "outputs": [],
   "source": [
    "df['TEMPERATURA DO AR - BULBO SECO, HORARIA (°C)'] = pd.to_numeric(df['TEMPERATURA DO AR - BULBO SECO, HORARIA (°C)'], errors='coerce')\n"
   ]
  },
  {
   "cell_type": "code",
   "execution_count": 28,
   "metadata": {},
   "outputs": [],
   "source": [
    "max_temp = df['TEMPERATURA DO AR - BULBO SECO, HORARIA (°C)'].max()\n"
   ]
  },
  {
   "cell_type": "code",
   "execution_count": 29,
   "metadata": {},
   "outputs": [
    {
     "name": "stdout",
     "output_type": "stream",
     "text": [
      "Temperatura máxima do ar - bulbo seco, horária: 40.0 °C\n"
     ]
    }
   ],
   "source": [
    "print(f'Temperatura máxima do ar - bulbo seco, horária: {max_temp:.1f} °C')"
   ]
  },
  {
   "cell_type": "code",
   "execution_count": 30,
   "metadata": {},
   "outputs": [],
   "source": [
    "min_temp = df['TEMPERATURA DO AR - BULBO SECO, HORARIA (°C)'].min()"
   ]
  },
  {
   "cell_type": "code",
   "execution_count": 31,
   "metadata": {},
   "outputs": [
    {
     "name": "stdout",
     "output_type": "stream",
     "text": [
      "Temperatura máxima do ar - bulbo seco, horária: 6.0 °C\n"
     ]
    }
   ],
   "source": [
    "print(f'Temperatura máxima do ar - bulbo seco, horária: {min_temp:.1f} °C')"
   ]
  },
  {
   "cell_type": "markdown",
   "metadata": {},
   "source": [
    "4. Quantos registros tinham valores nulos antes do tratamento?"
   ]
  },
  {
   "attachments": {
    "image.png": {
     "image/png": "[encoded data removed]"
    }
   },
   "cell_type": "markdown",
   "metadata": {},
   "source": [
    "![image.png](attachment:image.png)"
   ]
  },
  {
   "cell_type": "markdown",
   "metadata": {},
   "source": [
    "5. Qual foi o impacto da normalização de uma coluna específica?\n",
    "\n",
    "Alterar  os valores na coluna \"UMIDADE RELATIVA DO AR, HORARIA (%)\" sem distorcer as diferenças nos intervalos de valores."
   ]
  },
  {
   "cell_type": "markdown",
   "metadata": {},
   "source": [
    "6. Que padrões emergiram após a análise dos dados?\n",
    "\n",
    "Informações sobre as variações de temperatura e umidade relativa do ar."
   ]
  },
  {
   "cell_type": "markdown",
   "metadata": {},
   "source": [
    "7. Como os dados foram agrupados e quais insights foram gerados?\n",
    "\n",
    "Através de datas, meses, dias e horas."
   ]
  },
  {
   "cell_type": "markdown",
   "metadata": {},
   "source": [
    "8. Quais visualizações forneceram as informações mais valiosas?\n",
    "\n",
    "Não consigo ter certeza dessa resposta , mas acho que o gráfico de linha que mostra as Séries Temporais das Variáveis"
   ]
  },
  {
   "cell_type": "markdown",
   "metadata": {},
   "source": [
    "9. Como o uso de SQL contribuiu para a organização dos resultados?\n",
    "Auxiliou na manipulação,remoção de dados desnecessários, padronização e atualização dos dados."
   ]
  },
  {
   "cell_type": "markdown",
   "metadata": {},
   "source": [
    "10. De que forma os gráficos ajudaram na compreensão dos dados?\n",
    "\n",
    "Não consegui fazer essa análise de forma aprofundada mas venho observando  o quanto os gráficos são ferramentas poderosas para extrair informações dos dados."
   ]
  }
 ],
 "metadata": {
  "kernelspec": {
   "display_name": "Python 3",
   "language": "python",
   "name": "python3"
  },
  "language_info": {
   "codemirror_mode": {
    "name": "ipython",
    "version": 3
   },
   "file_extension": ".py",
   "mimetype": "text/x-python",
   "name": "python",
   "nbconvert_exporter": "python",
   "pygments_lexer": "ipython3",
   "version": "3.12.3"
  }
 },
 "nbformat": 4,
 "nbformat_minor": 2
}
